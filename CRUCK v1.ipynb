{
 "cells": [
  {
   "cell_type": "markdown",
   "metadata": {},
   "source": [
    "<hr>\n",
    "<p><center>CHRISTOPHER</center><br><font size=\"2\"><center>ASSOCIATE DATA SCIENTIST</center></font>\n",
    "<br><center>RUCKER</center></p>\n",
    "<hr>"
   ]
  },
  {
   "cell_type": "markdown",
   "metadata": {},
   "source": [
    "<p><font size=\"6\"><em>-</em> LOADDATA <em>-</em></font></p>"
   ]
  },
  {
   "cell_type": "code",
   "execution_count": 17,
   "metadata": {
    "collapsed": false,
    "scrolled": true
   },
   "outputs": [
    {
     "data": {
      "text/plain": [
       "u'c:\\\\users\\\\crucker'"
      ]
     },
     "execution_count": 17,
     "metadata": {},
     "output_type": "execute_result"
    }
   ],
   "source": [
    "pwd"
   ]
  },
  {
   "cell_type": "code",
   "execution_count": 38,
   "metadata": {
    "collapsed": false
   },
   "outputs": [],
   "source": [
    "import pandas as pd\n",
    "\n",
    "df = pd.read_csv('data.csv')"
   ]
  },
  {
   "cell_type": "code",
   "execution_count": 21,
   "metadata": {
    "collapsed": false
   },
   "outputs": [
    {
     "data": {
      "text/html": [
       "<div>\n",
       "<table border=\"1\" class=\"dataframe\">\n",
       "  <thead>\n",
       "    <tr style=\"text-align: right;\">\n",
       "      <th></th>\n",
       "      <th>EQP_LOCAL_EQP</th>\n",
       "      <th>EQP_MODEL_EQP</th>\n",
       "      <th>EQP_FAIL_CNT_EQP</th>\n",
       "    </tr>\n",
       "  </thead>\n",
       "  <tbody>\n",
       "    <tr>\n",
       "      <th>390956</th>\n",
       "      <td>8383922210184037</td>\n",
       "      <td>AHTC8717</td>\n",
       "      <td>0</td>\n",
       "    </tr>\n",
       "    <tr>\n",
       "      <th>390957</th>\n",
       "      <td>8383921490228753</td>\n",
       "      <td>AHTC8717</td>\n",
       "      <td>0</td>\n",
       "    </tr>\n",
       "    <tr>\n",
       "      <th>390958</th>\n",
       "      <td>8383911670068913</td>\n",
       "      <td>IPW9001</td>\n",
       "      <td>0</td>\n",
       "    </tr>\n",
       "    <tr>\n",
       "      <th>390959</th>\n",
       "      <td>8383610050121223</td>\n",
       "      <td>THOMDTA</td>\n",
       "      <td>0</td>\n",
       "    </tr>\n",
       "    <tr>\n",
       "      <th>390960</th>\n",
       "      <td>8383940050691762</td>\n",
       "      <td>IPW9001</td>\n",
       "      <td>0</td>\n",
       "    </tr>\n",
       "  </tbody>\n",
       "</table>\n",
       "</div>"
      ],
      "text/plain": [
       "           EQP_LOCAL_EQP EQP_MODEL_EQP  EQP_FAIL_CNT_EQP\n",
       "390956  8383922210184037      AHTC8717                 0\n",
       "390957  8383921490228753      AHTC8717                 0\n",
       "390958  8383911670068913       IPW9001                 0\n",
       "390959  8383610050121223       THOMDTA                 0\n",
       "390960  8383940050691762       IPW9001                 0"
      ]
     },
     "execution_count": 21,
     "metadata": {},
     "output_type": "execute_result"
    }
   ],
   "source": [
    "df.tail()"
   ]
  },
  {
   "cell_type": "markdown",
   "metadata": {
    "collapsed": false
   },
   "source": [
    "<p><font size=\"6\"><em>-</em> CLEANDATA <em>-</em></font></p>"
   ]
  },
  {
   "cell_type": "code",
   "execution_count": 39,
   "metadata": {
    "collapsed": false
   },
   "outputs": [
    {
     "data": {
      "text/html": [
       "<div>\n",
       "<table border=\"1\" class=\"dataframe\">\n",
       "  <thead>\n",
       "    <tr style=\"text-align: right;\">\n",
       "      <th>EQP_MODEL_EQP</th>\n",
       "      <th>0C810</th>\n",
       "      <th>6780</th>\n",
       "      <th>6783</th>\n",
       "      <th>8550</th>\n",
       "      <th>8580</th>\n",
       "      <th>8600</th>\n",
       "      <th>ACJA15</th>\n",
       "      <th>ACJA18</th>\n",
       "      <th>ACJA30</th>\n",
       "    </tr>\n",
       "    <tr>\n",
       "      <th>EQP_LOCAL_EQP</th>\n",
       "      <th></th>\n",
       "      <th></th>\n",
       "      <th></th>\n",
       "      <th></th>\n",
       "      <th></th>\n",
       "      <th></th>\n",
       "      <th></th>\n",
       "      <th></th>\n",
       "      <th></th>\n",
       "    </tr>\n",
       "  </thead>\n",
       "  <tbody>\n",
       "    <tr>\n",
       "      <th>8383100010237202</th>\n",
       "      <td>NaN</td>\n",
       "      <td>NaN</td>\n",
       "      <td>NaN</td>\n",
       "      <td>NaN</td>\n",
       "      <td>NaN</td>\n",
       "      <td>NaN</td>\n",
       "      <td>NaN</td>\n",
       "      <td>NaN</td>\n",
       "      <td>NaN</td>\n",
       "    </tr>\n",
       "    <tr>\n",
       "      <th>8383100010250056</th>\n",
       "      <td>NaN</td>\n",
       "      <td>NaN</td>\n",
       "      <td>NaN</td>\n",
       "      <td>NaN</td>\n",
       "      <td>NaN</td>\n",
       "      <td>NaN</td>\n",
       "      <td>NaN</td>\n",
       "      <td>NaN</td>\n",
       "      <td>NaN</td>\n",
       "    </tr>\n",
       "    <tr>\n",
       "      <th>8383100010253217</th>\n",
       "      <td>NaN</td>\n",
       "      <td>NaN</td>\n",
       "      <td>NaN</td>\n",
       "      <td>NaN</td>\n",
       "      <td>NaN</td>\n",
       "      <td>NaN</td>\n",
       "      <td>NaN</td>\n",
       "      <td>NaN</td>\n",
       "      <td>NaN</td>\n",
       "    </tr>\n",
       "    <tr>\n",
       "      <th>8383100010254959</th>\n",
       "      <td>NaN</td>\n",
       "      <td>NaN</td>\n",
       "      <td>NaN</td>\n",
       "      <td>NaN</td>\n",
       "      <td>NaN</td>\n",
       "      <td>NaN</td>\n",
       "      <td>NaN</td>\n",
       "      <td>NaN</td>\n",
       "      <td>NaN</td>\n",
       "    </tr>\n",
       "    <tr>\n",
       "      <th>8383100010292686</th>\n",
       "      <td>NaN</td>\n",
       "      <td>NaN</td>\n",
       "      <td>NaN</td>\n",
       "      <td>NaN</td>\n",
       "      <td>NaN</td>\n",
       "      <td>NaN</td>\n",
       "      <td>NaN</td>\n",
       "      <td>NaN</td>\n",
       "      <td>NaN</td>\n",
       "    </tr>\n",
       "  </tbody>\n",
       "</table>\n",
       "</div>"
      ],
      "text/plain": [
       "EQP_MODEL_EQP     0C810  6780  6783  8550  8580  8600  ACJA15  ACJA18  ACJA30\n",
       "EQP_LOCAL_EQP                                                                \n",
       "8383100010237202    NaN   NaN   NaN   NaN   NaN   NaN     NaN     NaN     NaN\n",
       "8383100010250056    NaN   NaN   NaN   NaN   NaN   NaN     NaN     NaN     NaN\n",
       "8383100010253217    NaN   NaN   NaN   NaN   NaN   NaN     NaN     NaN     NaN\n",
       "8383100010254959    NaN   NaN   NaN   NaN   NaN   NaN     NaN     NaN     NaN\n",
       "8383100010292686    NaN   NaN   NaN   NaN   NaN   NaN     NaN     NaN     NaN"
      ]
     },
     "execution_count": 39,
     "metadata": {},
     "output_type": "execute_result"
    }
   ],
   "source": [
    "modelRatings = df.pivot_table(index=['EQP_LOCAL_EQP'],columns=['EQP_MODEL_EQP'],values='EQP_FAIL_CNT_EQP').iloc[:, 1:10]\n",
    "modelRatings.head()"
   ]
  },
  {
   "cell_type": "markdown",
   "metadata": {},
   "source": [
    "<p><font size=\"6\"><em>-</em> SUBRATINGS <em>-</em></font></p>"
   ]
  },
  {
   "cell_type": "code",
   "execution_count": 25,
   "metadata": {
    "collapsed": false,
    "scrolled": true
   },
   "outputs": [
    {
     "data": {
      "text/plain": [
       "EQP_LOCAL_EQP\n",
       "8383100010237202   NaN\n",
       "8383100010250056   NaN\n",
       "8383100010253217     0\n",
       "8383100010254959   NaN\n",
       "8383100010292686     0\n",
       "Name: MCARD9060, dtype: float64"
      ]
     },
     "execution_count": 25,
     "metadata": {},
     "output_type": "execute_result"
    }
   ],
   "source": [
    "MCARD9060Ratings = modelRatings['MCARD9060']\n",
    "MCARD9060Ratings.head()"
   ]
  },
  {
   "cell_type": "markdown",
   "metadata": {},
   "source": [
    "<p><font size=\"6\"><em>-</em> PAIRWISE <em>-</em></font></p>"
   ]
  },
  {
   "cell_type": "code",
   "execution_count": 32,
   "metadata": {
    "collapsed": false,
    "scrolled": true
   },
   "outputs": [
    {
     "data": {
      "text/html": [
       "<div>\n",
       "<table border=\"1\" class=\"dataframe\">\n",
       "  <thead>\n",
       "    <tr style=\"text-align: right;\">\n",
       "      <th></th>\n",
       "      <th>0</th>\n",
       "    </tr>\n",
       "    <tr>\n",
       "      <th>EQP_MODEL_EQP</th>\n",
       "      <th></th>\n",
       "    </tr>\n",
       "  </thead>\n",
       "  <tbody>\n",
       "    <tr>\n",
       "      <th>AHCGNVM</th>\n",
       "      <td>-0.001791</td>\n",
       "    </tr>\n",
       "    <tr>\n",
       "      <th>AHDPC3825</th>\n",
       "      <td>-0.007982</td>\n",
       "    </tr>\n",
       "    <tr>\n",
       "      <th>AHTC8717</th>\n",
       "      <td>-0.000686</td>\n",
       "    </tr>\n",
       "    <tr>\n",
       "      <th>DCX700MR</th>\n",
       "      <td>-0.004071</td>\n",
       "    </tr>\n",
       "    <tr>\n",
       "      <th>DTDC60XU</th>\n",
       "      <td>-0.004228</td>\n",
       "    </tr>\n",
       "    <tr>\n",
       "      <th>DTDCI401N</th>\n",
       "      <td>-0.000946</td>\n",
       "    </tr>\n",
       "    <tr>\n",
       "      <th>IPW9001</th>\n",
       "      <td>-0.000792</td>\n",
       "    </tr>\n",
       "    <tr>\n",
       "      <th>MCARD9060</th>\n",
       "      <td>1.000000</td>\n",
       "    </tr>\n",
       "    <tr>\n",
       "      <th>MCARD9062</th>\n",
       "      <td>0.043355</td>\n",
       "    </tr>\n",
       "    <tr>\n",
       "      <th>MPACUDTA</th>\n",
       "      <td>-0.000827</td>\n",
       "    </tr>\n",
       "    <tr>\n",
       "      <th>PCXG1</th>\n",
       "      <td>0.024862</td>\n",
       "    </tr>\n",
       "    <tr>\n",
       "      <th>TCDA92000</th>\n",
       "      <td>-0.000520</td>\n",
       "    </tr>\n",
       "    <tr>\n",
       "      <th>THOMDCI</th>\n",
       "      <td>-0.002370</td>\n",
       "    </tr>\n",
       "    <tr>\n",
       "      <th>THOMDTA</th>\n",
       "      <td>-0.000872</td>\n",
       "    </tr>\n",
       "    <tr>\n",
       "      <th>WDBABT500</th>\n",
       "      <td>-0.009676</td>\n",
       "    </tr>\n",
       "  </tbody>\n",
       "</table>\n",
       "</div>"
      ],
      "text/plain": [
       "                      0\n",
       "EQP_MODEL_EQP          \n",
       "AHCGNVM       -0.001791\n",
       "AHDPC3825     -0.007982\n",
       "AHTC8717      -0.000686\n",
       "DCX700MR      -0.004071\n",
       "DTDC60XU      -0.004228\n",
       "DTDCI401N     -0.000946\n",
       "IPW9001       -0.000792\n",
       "MCARD9060      1.000000\n",
       "MCARD9062      0.043355\n",
       "MPACUDTA      -0.000827\n",
       "PCXG1          0.024862\n",
       "TCDA92000     -0.000520\n",
       "THOMDCI       -0.002370\n",
       "THOMDTA       -0.000872\n",
       "WDBABT500     -0.009676"
      ]
     },
     "execution_count": 32,
     "metadata": {},
     "output_type": "execute_result"
    }
   ],
   "source": [
    "similarModels = modelRatings.corrwith(MCARD9060Ratings)\n",
    "similarModels = similarModels.dropna()\n",
    "df = pd.DataFrame(similarModels)\n",
    "df.head(20)"
   ]
  },
  {
   "cell_type": "markdown",
   "metadata": {},
   "source": [
    "<p><font size=\"6\"><em>-</em> SCORE <em>-</em></font></p>"
   ]
  },
  {
   "cell_type": "code",
   "execution_count": 33,
   "metadata": {
    "collapsed": false
   },
   "outputs": [
    {
     "data": {
      "text/plain": [
       "EQP_MODEL_EQP\n",
       "MCARD9060    1.000000\n",
       "MCARD9062    0.043355\n",
       "PCXG1        0.024862\n",
       "TCDA92000   -0.000520\n",
       "AHTC8717    -0.000686\n",
       "IPW9001     -0.000792\n",
       "MPACUDTA    -0.000827\n",
       "THOMDTA     -0.000872\n",
       "DTDCI401N   -0.000946\n",
       "AHCGNVM     -0.001791\n",
       "THOMDCI     -0.002370\n",
       "DCX700MR    -0.004071\n",
       "DTDC60XU    -0.004228\n",
       "AHDPC3825   -0.007982\n",
       "WDBABT500   -0.009676\n",
       "dtype: float64"
      ]
     },
     "execution_count": 33,
     "metadata": {},
     "output_type": "execute_result"
    }
   ],
   "source": [
    "similarModels.sort_values(ascending=False).head(20)"
   ]
  },
  {
   "cell_type": "markdown",
   "metadata": {},
   "source": [
    "<p><font size=\"6\"><em>-</em> WRITEUP <em>-</em></font></p>"
   ]
  },
  {
   "cell_type": "markdown",
   "metadata": {
    "collapsed": true
   },
   "source": [
    "<p><font size=\"4\">Forecast equipment failure ranked by pairwise correlation using criteria such as model number, subscriber number, and failure count.\n",
    "\n",
    "A dataset of ~400K tuple using model AHTC8717 correlated with model MCARD9060 are the covariants.\n",
    "\n",
    "The algorithm found 6 out of the top 10 equipment failure issues for 60% accuracy</p>"
   ]
  }
 ],
 "metadata": {
  "kernelspec": {
   "display_name": "Python 2",
   "language": "python",
   "name": "python2"
  },
  "language_info": {
   "codemirror_mode": {
    "name": "ipython",
    "version": 2
   },
   "file_extension": ".py",
   "mimetype": "text/x-python",
   "name": "python",
   "nbconvert_exporter": "python",
   "pygments_lexer": "ipython2",
   "version": "2.7.10"
  }
 },
 "nbformat": 4,
 "nbformat_minor": 0
}

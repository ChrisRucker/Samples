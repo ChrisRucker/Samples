{
 "cells": [
  {
   "cell_type": "code",
   "execution_count": 22,
   "metadata": {
    "collapsed": false
   },
   "outputs": [
    {
     "name": "stdout",
     "output_type": "stream",
     "text": [
      "meetingOrganizer: Lloyd Heck\n",
      "meetingSummary: Brian Walsh Meeting\n",
      "meetingStartTime: 430 PM EST\n"
     ]
    }
   ],
   "source": [
    "file_handle = open('vcal.txt')                      # load dataset\n",
    "\n",
    "count = 0                                           # initialize variables\n",
    "count_cn = 0\n",
    "count_sy = 0\n",
    "\n",
    "for line_cn in file_handle:                         # iterate dataset\n",
    "    line_cn = line_cn.rstrip()\n",
    "    if not line_cn.startswith('ORGANIZER;'):\n",
    "        continue\n",
    "    pos = line_cn.find(':')\n",
    "    print 'meetingOrganizer:', line_cn[13:pos+0]\n",
    "    count_cn = count_cn + 1\n",
    "    for line_sy in file_handle:\n",
    "        line_sy = line_sy.rstrip()\n",
    "        if not line_sy.startswith('SUMMARY;'):\n",
    "            continue\n",
    "        pos = line_sy.find(':')\n",
    "        print 'meetingSummary:', line_sy[23:]\n",
    "        count_sy = count_sy + 1\n",
    "        for line in file_handle:\n",
    "            line = line.rstrip()\n",
    "            if not line.startswith('DTSTART;'):\n",
    "                continue\n",
    "            word = line.split()\n",
    "            count = count + 1\n",
    "    \n",
    "time = word[2]                                      # initialize variables\n",
    "time_pm = int(time[14:18]) - 1200\n",
    "time_am = int(time[14:18]) \n",
    "    \n",
    "if time_am < 1200:                                  # use logic\n",
    "    print \"meetingStartTime:\", time_am, \"AM EST\"\n",
    "else:\n",
    "    print \"meetingStartTime:\", time_pm, \"PM EST\""
   ]
  }
 ],
 "metadata": {
  "kernelspec": {
   "display_name": "Python 2",
   "language": "python",
   "name": "python2"
  },
  "language_info": {
   "codemirror_mode": {
    "name": "ipython",
    "version": 2
   },
   "file_extension": ".py",
   "mimetype": "text/x-python",
   "name": "python",
   "nbconvert_exporter": "python",
   "pygments_lexer": "ipython2",
   "version": "2.7.10"
  }
 },
 "nbformat": 4,
 "nbformat_minor": 0
}
